{
 "cells": [
  {
   "cell_type": "code",
   "execution_count": 96,
   "metadata": {},
   "outputs": [],
   "source": [
    "import pandas as pd\n",
    "import requests\n",
    "import pprint\n",
    "import json"
   ]
  },
  {
   "cell_type": "code",
   "execution_count": 97,
   "metadata": {},
   "outputs": [],
   "source": [
    "# https://sgis.kostat.go.kr/ \n",
    "# 인증키발급센터 > 나의 인증키\n",
    "consumer_key = 'a28ba317736540d3b307'\n",
    "consumer_secret = '60159f23a0ac44988a43'\n"
   ]
  },
  {
   "cell_type": "code",
   "execution_count": 100,
   "metadata": {},
   "outputs": [
    {
     "data": {
      "text/plain": [
       "'{\"id\":\"API_0312\",\"result\":[{\"adm_cd\":\"11\",\"adm_nm\":\"서울특별시\",\"avg_age\":\"87.3\",\"population\":\"1044482\"},{\"adm_cd\":\"21\",\"adm_nm\":\"부산광역시\",\"avg_age\":\"86.6\",\"population\":\"452782\"},{\"adm_cd\":\"22\",\"adm_nm\":\"대구광역시\",\"avg_age\":\"86.5\",\"population\":\"288822\"},{\"adm_cd\":\"23\",\"adm_nm\":\"인천광역시\",\"avg_age\":\"87\",\"population\":\"287521\"},{\"adm_cd\":\"24\",\"adm_nm\":\"광주광역시\",\"avg_age\":\"86.8\",\"population\":\"150964\"},{\"adm_cd\":\"25\",\"adm_nm\":\"대전광역시\",\"avg_age\":\"87.1\",\"population\":\"148726\"},{\"adm_cd\":\"26\",\"adm_nm\":\"울산광역시\",\"avg_age\":\"85.9\",\"population\":\"95271\"},{\"adm_cd\":\"29\",\"adm_nm\":\"세종특별자치시\",\"avg_age\":\"87.1\",\"population\":\"23859\"},{\"adm_cd\":\"31\",\"adm_nm\":\"경기도\",\"avg_age\":\"87\",\"population\":\"1254686\"},{\"adm_cd\":\"32\",\"adm_nm\":\"강원특별자치도\",\"avg_age\":\"86.2\",\"population\":\"226492\"},{\"adm_cd\":\"33\",\"adm_nm\":\"충청북도\",\"avg_age\":\"86.2\",\"population\":\"203935\"},{\"adm_cd\":\"34\",\"adm_nm\":\"충청남도\",\"avg_age\":\"86.5\",\"population\":\"294164\"},{\"adm_cd\":\"35\",\"adm_nm\":\"전라북도\",\"avg_age\":\"86.6\",\"population\":\"282085\"},{\"adm_cd\":\"36\",\"adm_nm\":\"전라남도\",\"avg_age\":\"86.2\",\"population\":\"315973\"},{\"adm_cd\":\"37\",\"adm_nm\":\"경상북도\",\"avg_age\":\"86.2\",\"population\":\"403133\"},{\"adm_cd\":\"38\",\"adm_nm\":\"경상남도\",\"avg_age\":\"86.1\",\"population\":\"408248\"},{\"adm_cd\":\"39\",\"adm_nm\":\"제주특별자치도\",\"avg_age\":\"87.6\",\"population\":\"75908\"}],\"errMsg\":\"Success\",\"errCd\":0,\"trId\":\"9yRX_API_0312_1722581373096\"}'"
      ]
     },
     "execution_count": 100,
     "metadata": {},
     "output_type": "execute_result"
    }
   ],
   "source": [
    "# 기본 URL\n",
    "base_url = \"https://sgisapi.kostat.go.kr/OpenAPI3/stats/searchpopulation.json\"\n",
    "# https://sgisapi.kostat.go.kr/OpenAPI3/stats/searchpopulation.json?accessToken=ab21919c-3130-4e84-9b0e-b28dcc8b781c&year=2020&age_types=15\n",
    "\n",
    "\n",
    "# 액세스 토큰\n",
    "accessToken = 'f30010b8-8710-4c63-a8b9-cbb55b0cf9a1'\n",
    "\n",
    "# 기본 파라미터\n",
    "params = {\n",
    "    \"accessToken\": accessToken,\n",
    "    \"year\": \"2022\",\n",
    "    \"age_type\": \"40\"\n",
    "}\n",
    "\n",
    "# URL 불러오기\n",
    "response = requests.get(base_url, params=params)\n",
    "\n",
    "# 데이터 값 출력해보기\n",
    "contents = response.text\n",
    "contents"
   ]
  },
  {
   "cell_type": "code",
   "execution_count": 101,
   "metadata": {},
   "outputs": [
    {
     "name": "stdout",
     "output_type": "stream",
     "text": [
      "'{\"id\":\"API_0312\",\"result\":[{\"adm_cd\":\"11\",\"adm_nm\":\"서울특별시\",\"avg_age\":\"87.3\",\"population\":\"1044482\"},{\"adm_cd\":\"21\",\"adm_nm\":\"부산광역시\",\"avg_age\":\"86.6\",\"population\":\"452782\"},{\"adm_cd\":\"22\",\"adm_nm\":\"대구광역시\",\"avg_age\":\"86.5\",\"population\":\"288822\"},{\"adm_cd\":\"23\",\"adm_nm\":\"인천광역시\",\"avg_age\":\"87\",\"population\":\"287521\"},{\"adm_cd\":\"24\",\"adm_nm\":\"광주광역시\",\"avg_age\":\"86.8\",\"population\":\"150964\"},{\"adm_cd\":\"25\",\"adm_nm\":\"대전광역시\",\"avg_age\":\"87.1\",\"population\":\"148726\"},{\"adm_cd\":\"26\",\"adm_nm\":\"울산광역시\",\"avg_age\":\"85.9\",\"population\":\"95271\"},{\"adm_cd\":\"29\",\"adm_nm\":\"세종특별자치시\",\"avg_age\":\"87.1\",\"population\":\"23859\"},{\"adm_cd\":\"31\",\"adm_nm\":\"경기도\",\"avg_age\":\"87\",\"population\":\"1254686\"},{\"adm_cd\":\"32\",\"adm_nm\":\"강원특별자치도\",\"avg_age\":\"86.2\",\"population\":\"226492\"},{\"adm_cd\":\"33\",\"adm_nm\":\"충청북도\",\"avg_age\":\"86.2\",\"population\":\"203935\"},{\"adm_cd\":\"34\",\"adm_nm\":\"충청남도\",\"avg_age\":\"86.5\",\"population\":\"294164\"},{\"adm_cd\":\"35\",\"adm_nm\":\"전라북도\",\"avg_age\":\"86.6\",\"population\":\"282085\"},{\"adm_cd\":\"36\",\"adm_nm\":\"전라남도\",\"avg_age\":\"86.2\",\"population\":\"315973\"},{\"adm_cd\":\"37\",\"adm_nm\":\"경상북도\",\"avg_age\":\"86.2\",\"population\":\"403133\"},{\"adm_cd\":\"38\",\"adm_nm\":\"경상남도\",\"avg_age\":\"86.1\",\"population\":\"408248\"},{\"adm_cd\":\"39\",\"adm_nm\":\"제주특별자치도\",\"avg_age\":\"87.6\",\"population\":\"75908\"}],\"errMsg\":\"Success\",\"errCd\":0,\"trId\":\"9yRX_API_0312_1722581373096\"}'\n",
      "None\n"
     ]
    }
   ],
   "source": [
    "# 데이터 결과값 예쁘게 출력해주는 코드\n",
    "pp = pprint.PrettyPrinter(indent=4)\n",
    "print(pp.pprint(contents))"
   ]
  },
  {
   "cell_type": "code",
   "execution_count": 102,
   "metadata": {},
   "outputs": [
    {
     "name": "stdout",
     "output_type": "stream",
     "text": [
      "{'id': 'API_0312', 'result': [{'adm_cd': '11', 'adm_nm': '서울특별시', 'avg_age': '87.3', 'population': '1044482'}, {'adm_cd': '21', 'adm_nm': '부산광역시', 'avg_age': '86.6', 'population': '452782'}, {'adm_cd': '22', 'adm_nm': '대구광역시', 'avg_age': '86.5', 'population': '288822'}, {'adm_cd': '23', 'adm_nm': '인천광역시', 'avg_age': '87', 'population': '287521'}, {'adm_cd': '24', 'adm_nm': '광주광역시', 'avg_age': '86.8', 'population': '150964'}, {'adm_cd': '25', 'adm_nm': '대전광역시', 'avg_age': '87.1', 'population': '148726'}, {'adm_cd': '26', 'adm_nm': '울산광역시', 'avg_age': '85.9', 'population': '95271'}, {'adm_cd': '29', 'adm_nm': '세종특별자치시', 'avg_age': '87.1', 'population': '23859'}, {'adm_cd': '31', 'adm_nm': '경기도', 'avg_age': '87', 'population': '1254686'}, {'adm_cd': '32', 'adm_nm': '강원특별자치도', 'avg_age': '86.2', 'population': '226492'}, {'adm_cd': '33', 'adm_nm': '충청북도', 'avg_age': '86.2', 'population': '203935'}, {'adm_cd': '34', 'adm_nm': '충청남도', 'avg_age': '86.5', 'population': '294164'}, {'adm_cd': '35', 'adm_nm': '전라북도', 'avg_age': '86.6', 'population': '282085'}, {'adm_cd': '36', 'adm_nm': '전라남도', 'avg_age': '86.2', 'population': '315973'}, {'adm_cd': '37', 'adm_nm': '경상북도', 'avg_age': '86.2', 'population': '403133'}, {'adm_cd': '38', 'adm_nm': '경상남도', 'avg_age': '86.1', 'population': '408248'}, {'adm_cd': '39', 'adm_nm': '제주특별자치도', 'avg_age': '87.6', 'population': '75908'}], 'errMsg': 'Success', 'errCd': 0, 'trId': '9yRX_API_0312_1722581373096'}\n",
      "<class 'dict'>\n"
     ]
    }
   ],
   "source": [
    "#문자열을 json으로 변경\n",
    "json_ob = json.loads(contents)\n",
    "print(json_ob)\n",
    "print(type(json_ob)) #json타입 확인"
   ]
  },
  {
   "cell_type": "code",
   "execution_count": 103,
   "metadata": {},
   "outputs": [
    {
     "name": "stdout",
     "output_type": "stream",
     "text": [
      "[{'adm_cd': '11', 'adm_nm': '서울특별시', 'avg_age': '87.3', 'population': '1044482'}, {'adm_cd': '21', 'adm_nm': '부산광역시', 'avg_age': '86.6', 'population': '452782'}, {'adm_cd': '22', 'adm_nm': '대구광역시', 'avg_age': '86.5', 'population': '288822'}, {'adm_cd': '23', 'adm_nm': '인천광역시', 'avg_age': '87', 'population': '287521'}, {'adm_cd': '24', 'adm_nm': '광주광역시', 'avg_age': '86.8', 'population': '150964'}, {'adm_cd': '25', 'adm_nm': '대전광역시', 'avg_age': '87.1', 'population': '148726'}, {'adm_cd': '26', 'adm_nm': '울산광역시', 'avg_age': '85.9', 'population': '95271'}, {'adm_cd': '29', 'adm_nm': '세종특별자치시', 'avg_age': '87.1', 'population': '23859'}, {'adm_cd': '31', 'adm_nm': '경기도', 'avg_age': '87', 'population': '1254686'}, {'adm_cd': '32', 'adm_nm': '강원특별자치도', 'avg_age': '86.2', 'population': '226492'}, {'adm_cd': '33', 'adm_nm': '충청북도', 'avg_age': '86.2', 'population': '203935'}, {'adm_cd': '34', 'adm_nm': '충청남도', 'avg_age': '86.5', 'population': '294164'}, {'adm_cd': '35', 'adm_nm': '전라북도', 'avg_age': '86.6', 'population': '282085'}, {'adm_cd': '36', 'adm_nm': '전라남도', 'avg_age': '86.2', 'population': '315973'}, {'adm_cd': '37', 'adm_nm': '경상북도', 'avg_age': '86.2', 'population': '403133'}, {'adm_cd': '38', 'adm_nm': '경상남도', 'avg_age': '86.1', 'population': '408248'}, {'adm_cd': '39', 'adm_nm': '제주특별자치도', 'avg_age': '87.6', 'population': '75908'}]\n"
     ]
    }
   ],
   "source": [
    "# 필요한 내용만 꺼내기\n",
    "body = json_ob['result']\n",
    "print(body)"
   ]
  },
  {
   "cell_type": "code",
   "execution_count": 104,
   "metadata": {},
   "outputs": [
    {
     "name": "stdout",
     "output_type": "stream",
     "text": [
      "<class 'pandas.core.frame.DataFrame'>\n",
      "RangeIndex: 17 entries, 0 to 16\n",
      "Data columns (total 4 columns):\n",
      " #   Column      Non-Null Count  Dtype \n",
      "---  ------      --------------  ----- \n",
      " 0   adm_cd      17 non-null     object\n",
      " 1   adm_nm      17 non-null     object\n",
      " 2   avg_age     17 non-null     object\n",
      " 3   population  17 non-null     int32 \n",
      "dtypes: int32(1), object(3)\n",
      "memory usage: 604.0+ bytes\n"
     ]
    }
   ],
   "source": [
    "# Dataframe으로 만들기\n",
    "df = pd.json_normalize(body)\n",
    "df = df.astype({'population':'int32'})\n",
    "df.info()"
   ]
  },
  {
   "cell_type": "code",
   "execution_count": 105,
   "metadata": {},
   "outputs": [],
   "source": [
    "import matplotlib.pyplot as plt\n",
    "plt.rcParams['font.family'] ='Malgun Gothic'\n",
    "plt.rcParams['axes.unicode_minus'] =False\n"
   ]
  },
  {
   "cell_type": "code",
   "execution_count": 106,
   "metadata": {},
   "outputs": [
    {
     "data": {
      "image/png": "[encoded data removed]",
      "text/plain": [
       "<Figure size 640x480 with 1 Axes>"
      ]
     },
     "metadata": {},
     "output_type": "display_data"
    }
   ],
   "source": [
    "plt.bar(df.adm_nm, df['population'], color=\"green\", label=\"70세이상\")\n",
    "plt. ylabel(\"population\")\n",
    "plt.xticks(rotation=90)\n",
    "plt.legend()\n",
    "plt.grid()\n",
    "plt.show()"
   ]
  },
  {
   "cell_type": "code",
   "execution_count": 107,
   "metadata": {},
   "outputs": [],
   "source": [
    "import cx_Oracle\n",
    "\n",
    "# Oracle DB 연결\n",
    "conn = cx_Oracle.connect(\"silvertown\", \"1111\", \"182.172.120.71:8881\")\n",
    "# conn = cx_Oracle.connect(\"ora_user2\", \"1111\", \"localhost:1521/xe\")\n",
    "cursor = conn.cursor()\n",
    "\n",
    "# 테이블 생성 (처음 한 번만 실행)\n",
    "create_table_query = \"\"\"\n",
    "CREATE TABLE population (\n",
    "    adm_cd NUMBER(2),\n",
    "    adm_nm VARCHAR2(100),\n",
    "    avg_age NUMBER(4,2),\n",
    "    population NUMBER(8)\n",
    "    \n",
    ")\n",
    "\"\"\"\n",
    "cursor.execute(create_table_query)\n",
    "\n",
    "# 데이터 삽입\n",
    "insert_query = \"\"\"\n",
    "INSERT INTO population (adm_cd, adm_nm, avg_age, population)\n",
    "VALUES (:1, :2, :3, :4)\n",
    "\"\"\"\n",
    "\n",
    "for _, row in df.iterrows():\n",
    "    cursor.execute(insert_query, tuple(row))\n",
    "\n",
    "conn.commit()\n",
    "\n",
    "# 연결 종료\n",
    "cursor.close()\n",
    "conn.close()"
   ]
  },
  {
   "cell_type": "code",
   "execution_count": 110,
   "metadata": {},
   "outputs": [
    {
     "name": "stderr",
     "output_type": "stream",
     "text": [
      "C:\\Users\\KOREAVC\\AppData\\Local\\Temp\\ipykernel_14184\\128141979.py:8: UserWarning: pandas only supports SQLAlchemy connectable (engine/connection) or database string URI or sqlite3 DBAPI2 connection. Other DBAPI2 objects are not tested. Please consider using SQLAlchemy.\n",
      "  df = pd.read_sql_query(query,conn)\n"
     ]
    },
    {
     "data": {
      "text/html": [
       "<div>\n",
       "<style scoped>\n",
       "    .dataframe tbody tr th:only-of-type {\n",
       "        vertical-align: middle;\n",
       "    }\n",
       "\n",
       "    .dataframe tbody tr th {\n",
       "        vertical-align: top;\n",
       "    }\n",
       "\n",
       "    .dataframe thead th {\n",
       "        text-align: right;\n",
       "    }\n",
       "</style>\n",
       "<table border=\"1\" class=\"dataframe\">\n",
       "  <thead>\n",
       "    <tr style=\"text-align: right;\">\n",
       "      <th></th>\n",
       "      <th>ADM_CD</th>\n",
       "      <th>ADM_NM</th>\n",
       "      <th>AVG_AGE</th>\n",
       "      <th>POPULATION</th>\n",
       "    </tr>\n",
       "  </thead>\n",
       "  <tbody>\n",
       "    <tr>\n",
       "      <th>0</th>\n",
       "      <td>11</td>\n",
       "      <td>서울특별시</td>\n",
       "      <td>87.3</td>\n",
       "      <td>1044482</td>\n",
       "    </tr>\n",
       "    <tr>\n",
       "      <th>1</th>\n",
       "      <td>21</td>\n",
       "      <td>부산광역시</td>\n",
       "      <td>86.6</td>\n",
       "      <td>452782</td>\n",
       "    </tr>\n",
       "    <tr>\n",
       "      <th>2</th>\n",
       "      <td>22</td>\n",
       "      <td>대구광역시</td>\n",
       "      <td>86.5</td>\n",
       "      <td>288822</td>\n",
       "    </tr>\n",
       "    <tr>\n",
       "      <th>3</th>\n",
       "      <td>23</td>\n",
       "      <td>인천광역시</td>\n",
       "      <td>87.0</td>\n",
       "      <td>287521</td>\n",
       "    </tr>\n",
       "    <tr>\n",
       "      <th>4</th>\n",
       "      <td>24</td>\n",
       "      <td>광주광역시</td>\n",
       "      <td>86.8</td>\n",
       "      <td>150964</td>\n",
       "    </tr>\n",
       "    <tr>\n",
       "      <th>5</th>\n",
       "      <td>25</td>\n",
       "      <td>대전광역시</td>\n",
       "      <td>87.1</td>\n",
       "      <td>148726</td>\n",
       "    </tr>\n",
       "    <tr>\n",
       "      <th>6</th>\n",
       "      <td>26</td>\n",
       "      <td>울산광역시</td>\n",
       "      <td>85.9</td>\n",
       "      <td>95271</td>\n",
       "    </tr>\n",
       "    <tr>\n",
       "      <th>7</th>\n",
       "      <td>29</td>\n",
       "      <td>세종특별자치시</td>\n",
       "      <td>87.1</td>\n",
       "      <td>23859</td>\n",
       "    </tr>\n",
       "    <tr>\n",
       "      <th>8</th>\n",
       "      <td>31</td>\n",
       "      <td>경기도</td>\n",
       "      <td>87.0</td>\n",
       "      <td>1254686</td>\n",
       "    </tr>\n",
       "    <tr>\n",
       "      <th>9</th>\n",
       "      <td>32</td>\n",
       "      <td>강원특별자치도</td>\n",
       "      <td>86.2</td>\n",
       "      <td>226492</td>\n",
       "    </tr>\n",
       "    <tr>\n",
       "      <th>10</th>\n",
       "      <td>33</td>\n",
       "      <td>충청북도</td>\n",
       "      <td>86.2</td>\n",
       "      <td>203935</td>\n",
       "    </tr>\n",
       "    <tr>\n",
       "      <th>11</th>\n",
       "      <td>34</td>\n",
       "      <td>충청남도</td>\n",
       "      <td>86.5</td>\n",
       "      <td>294164</td>\n",
       "    </tr>\n",
       "    <tr>\n",
       "      <th>12</th>\n",
       "      <td>35</td>\n",
       "      <td>전라북도</td>\n",
       "      <td>86.6</td>\n",
       "      <td>282085</td>\n",
       "    </tr>\n",
       "    <tr>\n",
       "      <th>13</th>\n",
       "      <td>36</td>\n",
       "      <td>전라남도</td>\n",
       "      <td>86.2</td>\n",
       "      <td>315973</td>\n",
       "    </tr>\n",
       "    <tr>\n",
       "      <th>14</th>\n",
       "      <td>37</td>\n",
       "      <td>경상북도</td>\n",
       "      <td>86.2</td>\n",
       "      <td>403133</td>\n",
       "    </tr>\n",
       "    <tr>\n",
       "      <th>15</th>\n",
       "      <td>38</td>\n",
       "      <td>경상남도</td>\n",
       "      <td>86.1</td>\n",
       "      <td>408248</td>\n",
       "    </tr>\n",
       "    <tr>\n",
       "      <th>16</th>\n",
       "      <td>39</td>\n",
       "      <td>제주특별자치도</td>\n",
       "      <td>87.6</td>\n",
       "      <td>75908</td>\n",
       "    </tr>\n",
       "  </tbody>\n",
       "</table>\n",
       "</div>"
      ],
      "text/plain": [
       "    ADM_CD   ADM_NM  AVG_AGE  POPULATION\n",
       "0       11    서울특별시     87.3     1044482\n",
       "1       21    부산광역시     86.6      452782\n",
       "2       22    대구광역시     86.5      288822\n",
       "3       23    인천광역시     87.0      287521\n",
       "4       24    광주광역시     86.8      150964\n",
       "5       25    대전광역시     87.1      148726\n",
       "6       26    울산광역시     85.9       95271\n",
       "7       29  세종특별자치시     87.1       23859\n",
       "8       31      경기도     87.0     1254686\n",
       "9       32  강원특별자치도     86.2      226492\n",
       "10      33     충청북도     86.2      203935\n",
       "11      34     충청남도     86.5      294164\n",
       "12      35     전라북도     86.6      282085\n",
       "13      36     전라남도     86.2      315973\n",
       "14      37     경상북도     86.2      403133\n",
       "15      38     경상남도     86.1      408248\n",
       "16      39  제주특별자치도     87.6       75908"
      ]
     },
     "execution_count": 110,
     "metadata": {},
     "output_type": "execute_result"
    }
   ],
   "source": [
    "# Oracle DB 연결\n",
    "conn = cx_Oracle.connect(\"silvertown\", \"1111\", \"182.172.120.71:8881\")\n",
    "# conn = cx_Oracle.connect(\"ora_user2\", \"1111\", \"localhost:1521/xe\")\n",
    "cursor = conn.cursor()\n",
    "\n",
    "# 데이터 가져오기\n",
    "query = 'select * from population'\n",
    "df = pd.read_sql_query(query,conn)\n",
    "df"
   ]
  },
  {
   "cell_type": "code",
   "execution_count": 111,
   "metadata": {},
   "outputs": [],
   "source": [
    "# 연결 종료\n",
    "cursor.close()\n",
    "conn.close()"
   ]
  }
 ],
 "metadata": {
  "kernelspec": {
   "display_name": "0605",
   "language": "python",
   "name": "python3"
  },
  "language_info": {
   "codemirror_mode": {
    "name": "ipython",
    "version": 3
   },
   "file_extension": ".py",
   "mimetype": "text/x-python",
   "name": "python",
   "nbconvert_exporter": "python",
   "pygments_lexer": "ipython3",
   "version": "3.10.13"
  }
 },
 "nbformat": 4,
 "nbformat_minor": 2
}
